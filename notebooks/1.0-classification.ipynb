{
 "cells": [
  {
   "cell_type": "markdown",
   "metadata": {},
   "source": [
    "V. 07.2020, S. Kaliyugarasan and A.S. Lundervold"
   ]
  },
  {
   "cell_type": "markdown",
   "metadata": {},
   "source": [
    "# Introduction"
   ]
  },
  {
   "cell_type": "markdown",
   "metadata": {},
   "source": [
    "This notebook constructs and evaluates a classifier tasked with predicting nodule malignancy from CT. "
   ]
  },
  {
   "cell_type": "markdown",
   "metadata": {},
   "source": [
    "# Setup"
   ]
  },
  {
   "cell_type": "code",
   "execution_count": null,
   "metadata": {},
   "outputs": [],
   "source": [
    "%reload_ext autoreload\n",
    "%autoreload 2\n",
    "%matplotlib inline "
   ]
  },
  {
   "cell_type": "code",
   "execution_count": null,
   "metadata": {},
   "outputs": [],
   "source": [
    "import warnings\n",
    "warnings.simplefilter(\"ignore\", UserWarning)"
   ]
  },
  {
   "cell_type": "code",
   "execution_count": null,
   "metadata": {},
   "outputs": [],
   "source": [
    "import sys \n",
    "import os.path\n",
    "from pathlib import Path"
   ]
  },
  {
   "cell_type": "code",
   "execution_count": null,
   "metadata": {},
   "outputs": [],
   "source": [
    "sys.path.append(\"../src/\")\n",
    "sys.path.append(\"../src/fastai_3d_extensions/network_and_models\")\n",
    "sys.path.append(\"../src/fastai_3d_extensions/vision\")"
   ]
  },
  {
   "cell_type": "code",
   "execution_count": null,
   "metadata": {},
   "outputs": [],
   "source": [
    "from data import * \n",
    "from models import *\n",
    "from interpretation import NiiClassificationInterpretation \n",
    "from transform import *\n",
    "from learner import create_learner\n",
    "from tta import TTA\n",
    "from datasets import download_and_preprocess_lidc_idri_tabular_data, get_img_dir"
   ]
  },
  {
   "cell_type": "code",
   "execution_count": null,
   "metadata": {},
   "outputs": [],
   "source": [
    "from sklearn.model_selection import train_test_split"
   ]
  },
  {
   "cell_type": "markdown",
   "metadata": {},
   "source": [
    "We are going to use the method `download_and_preprocess_lidc_idri_tabular_data()`  which will download the necessary tabular data for LIDC-IDRI and generate a training DataFrame and a test DataFrame. Note that you have to download the images first using the script `../src/prepare_images.py`."
   ]
  },
  {
   "cell_type": "code",
   "execution_count": null,
   "metadata": {},
   "outputs": [
    {
     "name": "stderr",
     "output_type": "stream",
     "text": [
      "Downloading: 100%|██████████| 254k/254k [00:00<00:00, 435kB/s] \n",
      "Downloading: 100%|██████████| 46.1k/46.1k [00:00<00:00, 150kB/s] \n"
     ]
    },
    {
     "name": "stdout",
     "output_type": "stream",
     "text": [
      "Preprosessing LIDC-IDRI metadata\n",
      "CPU times: user 14.9 s, sys: 116 ms, total: 15 s\n",
      "Wall time: 17.3 s\n"
     ]
    }
   ],
   "source": [
    "%time download_and_preprocess_lidc_idri_tabular_data()"
   ]
  },
  {
   "cell_type": "code",
   "execution_count": null,
   "metadata": {},
   "outputs": [],
   "source": [
    "NB_DIR = Path.cwd()\n",
    "LOCAL_DATA = NB_DIR/'..'/'local_data'\n",
    "PROCESSED_DATA = LOCAL_DATA/'processed'"
   ]
  },
  {
   "cell_type": "markdown",
   "metadata": {},
   "source": [
    "# Looking at the data"
   ]
  },
  {
   "cell_type": "code",
   "execution_count": null,
   "metadata": {},
   "outputs": [],
   "source": [
    "# get path to data stored when running the script `../src/prepare_images.py`\n",
    "DATA_DIR  = get_img_dir()\n",
    "IMG_PATH = DATA_DIR/'interim'"
   ]
  },
  {
   "cell_type": "code",
   "execution_count": null,
   "metadata": {},
   "outputs": [],
   "source": [
    "df = pd.read_csv(PROCESSED_DATA/'train_data_patient_level_diagnosis.csv')"
   ]
  },
  {
   "cell_type": "code",
   "execution_count": null,
   "metadata": {},
   "outputs": [
    {
     "data": {
      "text/html": [
       "<div>\n",
       "<style scoped>\n",
       "    .dataframe tbody tr th:only-of-type {\n",
       "        vertical-align: middle;\n",
       "    }\n",
       "\n",
       "    .dataframe tbody tr th {\n",
       "        vertical-align: top;\n",
       "    }\n",
       "\n",
       "    .dataframe thead th {\n",
       "        text-align: right;\n",
       "    }\n",
       "</style>\n",
       "<table border=\"1\" class=\"dataframe\">\n",
       "  <thead>\n",
       "    <tr style=\"text-align: right;\">\n",
       "      <th></th>\n",
       "      <th>path</th>\n",
       "      <th>subject_id</th>\n",
       "      <th>nodule</th>\n",
       "      <th>study_description</th>\n",
       "      <th>scan_session</th>\n",
       "      <th>study_date</th>\n",
       "      <th>modality</th>\n",
       "      <th>scan_description</th>\n",
       "      <th>manufacturer</th>\n",
       "      <th>manufacturer_model</th>\n",
       "      <th>...</th>\n",
       "      <th>radiologists_calcification_def</th>\n",
       "      <th>radiologists_sphericity_score</th>\n",
       "      <th>radiologists_margin_score</th>\n",
       "      <th>radiologists_texture_def</th>\n",
       "      <th>radiologists_malignancy_score</th>\n",
       "      <th>median_malignancy_score</th>\n",
       "      <th>malignancy</th>\n",
       "      <th>patient_level_diagnosis</th>\n",
       "      <th>binary_patient_level_diagnosis</th>\n",
       "      <th>usage</th>\n",
       "    </tr>\n",
       "  </thead>\n",
       "  <tbody>\n",
       "    <tr>\n",
       "      <th>0</th>\n",
       "      <td>LIDC-IDRI-0001/1.3.6.1.4.1.14519.5.2.1.6279.60...</td>\n",
       "      <td>LIDC-IDRI-0001</td>\n",
       "      <td>1</td>\n",
       "      <td>NaN</td>\n",
       "      <td>1</td>\n",
       "      <td>01/01/2000</td>\n",
       "      <td>CT</td>\n",
       "      <td>NaN</td>\n",
       "      <td>GE MEDICAL SYSTEMS</td>\n",
       "      <td>LightSpeed Plus</td>\n",
       "      <td>...</td>\n",
       "      <td>[6]</td>\n",
       "      <td>[4]</td>\n",
       "      <td>[4]</td>\n",
       "      <td>[5]</td>\n",
       "      <td>[5]</td>\n",
       "      <td>5.0</td>\n",
       "      <td>malignant</td>\n",
       "      <td>NaN</td>\n",
       "      <td>NaN</td>\n",
       "      <td>train</td>\n",
       "    </tr>\n",
       "    <tr>\n",
       "      <th>1</th>\n",
       "      <td>LIDC-IDRI-0002/1.3.6.1.4.1.14519.5.2.1.6279.60...</td>\n",
       "      <td>LIDC-IDRI-0002</td>\n",
       "      <td>1</td>\n",
       "      <td>NaN</td>\n",
       "      <td>1</td>\n",
       "      <td>01/01/2000</td>\n",
       "      <td>CT</td>\n",
       "      <td>NaN</td>\n",
       "      <td>GE MEDICAL SYSTEMS</td>\n",
       "      <td>LightSpeed16</td>\n",
       "      <td>...</td>\n",
       "      <td>[6]</td>\n",
       "      <td>[5]</td>\n",
       "      <td>[1]</td>\n",
       "      <td>[1]</td>\n",
       "      <td>[5]</td>\n",
       "      <td>5.0</td>\n",
       "      <td>malignant</td>\n",
       "      <td>NaN</td>\n",
       "      <td>NaN</td>\n",
       "      <td>train</td>\n",
       "    </tr>\n",
       "    <tr>\n",
       "      <th>2</th>\n",
       "      <td>LIDC-IDRI-0003/1.3.6.1.4.1.14519.5.2.1.6279.60...</td>\n",
       "      <td>LIDC-IDRI-0003</td>\n",
       "      <td>2</td>\n",
       "      <td>NaN</td>\n",
       "      <td>1</td>\n",
       "      <td>01/01/2000</td>\n",
       "      <td>CT</td>\n",
       "      <td>NaN</td>\n",
       "      <td>GE MEDICAL SYSTEMS</td>\n",
       "      <td>LightSpeed16</td>\n",
       "      <td>...</td>\n",
       "      <td>[6]</td>\n",
       "      <td>[5]</td>\n",
       "      <td>[4]</td>\n",
       "      <td>[4]</td>\n",
       "      <td>[4]</td>\n",
       "      <td>4.0</td>\n",
       "      <td>malignant</td>\n",
       "      <td>NaN</td>\n",
       "      <td>NaN</td>\n",
       "      <td>train</td>\n",
       "    </tr>\n",
       "    <tr>\n",
       "      <th>3</th>\n",
       "      <td>LIDC-IDRI-0003/1.3.6.1.4.1.14519.5.2.1.6279.60...</td>\n",
       "      <td>LIDC-IDRI-0003</td>\n",
       "      <td>3</td>\n",
       "      <td>NaN</td>\n",
       "      <td>1</td>\n",
       "      <td>01/01/2000</td>\n",
       "      <td>CT</td>\n",
       "      <td>NaN</td>\n",
       "      <td>GE MEDICAL SYSTEMS</td>\n",
       "      <td>LightSpeed16</td>\n",
       "      <td>...</td>\n",
       "      <td>[6]</td>\n",
       "      <td>[5]</td>\n",
       "      <td>[5]</td>\n",
       "      <td>[5]</td>\n",
       "      <td>[2]</td>\n",
       "      <td>2.0</td>\n",
       "      <td>benign</td>\n",
       "      <td>NaN</td>\n",
       "      <td>NaN</td>\n",
       "      <td>train</td>\n",
       "    </tr>\n",
       "    <tr>\n",
       "      <th>4</th>\n",
       "      <td>LIDC-IDRI-0003/1.3.6.1.4.1.14519.5.2.1.6279.60...</td>\n",
       "      <td>LIDC-IDRI-0003</td>\n",
       "      <td>4</td>\n",
       "      <td>NaN</td>\n",
       "      <td>1</td>\n",
       "      <td>01/01/2000</td>\n",
       "      <td>CT</td>\n",
       "      <td>NaN</td>\n",
       "      <td>GE MEDICAL SYSTEMS</td>\n",
       "      <td>LightSpeed16</td>\n",
       "      <td>...</td>\n",
       "      <td>[6, 6]</td>\n",
       "      <td>[5, 4]</td>\n",
       "      <td>[5, 5]</td>\n",
       "      <td>[5, 5]</td>\n",
       "      <td>[5, 3]</td>\n",
       "      <td>4.0</td>\n",
       "      <td>malignant</td>\n",
       "      <td>NaN</td>\n",
       "      <td>NaN</td>\n",
       "      <td>train</td>\n",
       "    </tr>\n",
       "  </tbody>\n",
       "</table>\n",
       "<p>5 rows × 25 columns</p>\n",
       "</div>"
      ],
      "text/plain": [
       "                                                path      subject_id  nodule  \\\n",
       "0  LIDC-IDRI-0001/1.3.6.1.4.1.14519.5.2.1.6279.60...  LIDC-IDRI-0001       1   \n",
       "1  LIDC-IDRI-0002/1.3.6.1.4.1.14519.5.2.1.6279.60...  LIDC-IDRI-0002       1   \n",
       "2  LIDC-IDRI-0003/1.3.6.1.4.1.14519.5.2.1.6279.60...  LIDC-IDRI-0003       2   \n",
       "3  LIDC-IDRI-0003/1.3.6.1.4.1.14519.5.2.1.6279.60...  LIDC-IDRI-0003       3   \n",
       "4  LIDC-IDRI-0003/1.3.6.1.4.1.14519.5.2.1.6279.60...  LIDC-IDRI-0003       4   \n",
       "\n",
       "  study_description  scan_session  study_date modality scan_description  \\\n",
       "0               NaN             1  01/01/2000       CT              NaN   \n",
       "1               NaN             1  01/01/2000       CT              NaN   \n",
       "2               NaN             1  01/01/2000       CT              NaN   \n",
       "3               NaN             1  01/01/2000       CT              NaN   \n",
       "4               NaN             1  01/01/2000       CT              NaN   \n",
       "\n",
       "         manufacturer manufacturer_model  ... radiologists_calcification_def  \\\n",
       "0  GE MEDICAL SYSTEMS    LightSpeed Plus  ...                            [6]   \n",
       "1  GE MEDICAL SYSTEMS       LightSpeed16  ...                            [6]   \n",
       "2  GE MEDICAL SYSTEMS       LightSpeed16  ...                            [6]   \n",
       "3  GE MEDICAL SYSTEMS       LightSpeed16  ...                            [6]   \n",
       "4  GE MEDICAL SYSTEMS       LightSpeed16  ...                         [6, 6]   \n",
       "\n",
       "  radiologists_sphericity_score radiologists_margin_score  \\\n",
       "0                           [4]                       [4]   \n",
       "1                           [5]                       [1]   \n",
       "2                           [5]                       [4]   \n",
       "3                           [5]                       [5]   \n",
       "4                        [5, 4]                    [5, 5]   \n",
       "\n",
       "  radiologists_texture_def radiologists_malignancy_score  \\\n",
       "0                      [5]                           [5]   \n",
       "1                      [1]                           [5]   \n",
       "2                      [4]                           [4]   \n",
       "3                      [5]                           [2]   \n",
       "4                   [5, 5]                        [5, 3]   \n",
       "\n",
       "  median_malignancy_score malignancy patient_level_diagnosis  \\\n",
       "0                     5.0  malignant                     NaN   \n",
       "1                     5.0  malignant                     NaN   \n",
       "2                     4.0  malignant                     NaN   \n",
       "3                     2.0     benign                     NaN   \n",
       "4                     4.0  malignant                     NaN   \n",
       "\n",
       "  binary_patient_level_diagnosis  usage  \n",
       "0                            NaN  train  \n",
       "1                            NaN  train  \n",
       "2                            NaN  train  \n",
       "3                            NaN  train  \n",
       "4                            NaN  train  \n",
       "\n",
       "[5 rows x 25 columns]"
      ]
     },
     "execution_count": null,
     "metadata": {},
     "output_type": "execute_result"
    }
   ],
   "source": [
    "df.head()"
   ]
  },
  {
   "cell_type": "markdown",
   "metadata": {},
   "source": [
    "Find the largest size in all axis, for use in the below data loader."
   ]
  },
  {
   "cell_type": "code",
   "execution_count": null,
   "metadata": {},
   "outputs": [
    {
     "data": {
      "text/html": [],
      "text/plain": [
       "<IPython.core.display.HTML object>"
      ]
     },
     "metadata": {},
     "output_type": "display_data"
    },
    {
     "data": {
      "text/plain": [
       "[88, 91, 62]"
      ]
     },
     "execution_count": null,
     "metadata": {},
     "output_type": "execute_result"
    }
   ],
   "source": [
    "LARGEST_IMG_SIZE = get_largest_img_size(img_list=df.path.values, path=IMG_PATH)\n",
    "LARGEST_IMG_SIZE"
   ]
  },
  {
   "cell_type": "markdown",
   "metadata": {},
   "source": [
    "## Split training data into train and val"
   ]
  },
  {
   "cell_type": "markdown",
   "metadata": {},
   "source": [
    "We split off a validation data set and store what data should be used for training and for validation in the training data frame."
   ]
  },
  {
   "cell_type": "code",
   "execution_count": null,
   "metadata": {},
   "outputs": [],
   "source": [
    "_, val_df, _, _ = train_test_split(df, df.malignancy, test_size=0.05, random_state=42, stratify=df.malignancy)"
   ]
  },
  {
   "cell_type": "code",
   "execution_count": null,
   "metadata": {},
   "outputs": [],
   "source": [
    "for subject_id in val_df.subject_id.unique(): df.loc[df.subject_id == subject_id, 'usage'] = 'val'"
   ]
  },
  {
   "cell_type": "code",
   "execution_count": null,
   "metadata": {},
   "outputs": [
    {
     "data": {
      "text/plain": [
       "train    711\n",
       "val      114\n",
       "Name: usage, dtype: int64"
      ]
     },
     "execution_count": null,
     "metadata": {},
     "output_type": "execute_result"
    }
   ],
   "source": [
    "df.usage.value_counts()"
   ]
  },
  {
   "cell_type": "code",
   "execution_count": null,
   "metadata": {},
   "outputs": [
    {
     "data": {
      "text/plain": [
       "benign       464\n",
       "malignant    247\n",
       "Name: malignancy, dtype: int64"
      ]
     },
     "execution_count": null,
     "metadata": {},
     "output_type": "execute_result"
    }
   ],
   "source": [
    "df_train = df.loc[df.usage == 'train']\n",
    "df_train.malignancy.value_counts()"
   ]
  },
  {
   "cell_type": "markdown",
   "metadata": {},
   "source": [
    "Oversample the malignant class in training set by duplicating the corresponding rows. "
   ]
  },
  {
   "cell_type": "code",
   "execution_count": null,
   "metadata": {},
   "outputs": [],
   "source": [
    "df = df.append(df_train.loc[df_train.malignancy == 'malignant'], ignore_index=True) #upsampling"
   ]
  },
  {
   "cell_type": "code",
   "execution_count": null,
   "metadata": {},
   "outputs": [
    {
     "data": {
      "text/plain": [
       "train    958\n",
       "val      114\n",
       "Name: usage, dtype: int64"
      ]
     },
     "execution_count": null,
     "metadata": {},
     "output_type": "execute_result"
    }
   ],
   "source": [
    "df.usage.value_counts()"
   ]
  },
  {
   "cell_type": "code",
   "execution_count": null,
   "metadata": {},
   "outputs": [],
   "source": [
    "df['usage'] = df['usage'].apply(lambda x: True if x =='val' else False) "
   ]
  },
  {
   "cell_type": "code",
   "execution_count": null,
   "metadata": {},
   "outputs": [
    {
     "data": {
      "image/png": "[encoded data removed]",
      "text/plain": [
       "<Figure size 432x288 with 1 Axes>"
      ]
     },
     "metadata": {
      "needs_background": "light"
     },
     "output_type": "display_data"
    }
   ],
   "source": [
    "df.loc[df.usage].malignancy.value_counts().plot(kind='bar', color=['C0', 'C1'], title='Validation'); #flyttet egentlig over 25 subjekter som var malignant i train til val for aa faa bedre litt bedre indikasjon "
   ]
  },
  {
   "cell_type": "code",
   "execution_count": null,
   "metadata": {},
   "outputs": [
    {
     "data": {
      "image/png": "[encoded data removed]",
      "text/plain": [
       "<Figure size 432x288 with 1 Axes>"
      ]
     },
     "metadata": {
      "needs_background": "light"
     },
     "output_type": "display_data"
    }
   ],
   "source": [
    "df.loc[~df.usage].malignancy.value_counts().plot(kind='bar', color=['C0', 'C1'], title='Train');"
   ]
  },
  {
   "cell_type": "markdown",
   "metadata": {},
   "source": [
    "## Create data set"
   ]
  },
  {
   "cell_type": "markdown",
   "metadata": {},
   "source": [
    "Use the custom NiiImageList from `data.py` class to create a labelled data set."
   ]
  },
  {
   "cell_type": "code",
   "execution_count": null,
   "metadata": {},
   "outputs": [],
   "source": [
    "src = NiiImageList.from_df(df, IMG_PATH).split_from_df(col='usage').label_from_df(cols='malignancy')"
   ]
  },
  {
   "cell_type": "markdown",
   "metadata": {},
   "source": [
    "## Create model"
   ]
  },
  {
   "cell_type": "code",
   "execution_count": null,
   "metadata": {},
   "outputs": [],
   "source": [
    "#Dropout probability \n",
    "dropout_ps=0.4\n",
    "\n",
    "#Batch size\n",
    "bs = 128"
   ]
  },
  {
   "cell_type": "markdown",
   "metadata": {},
   "source": [
    "> **Note:** If you get out of memory error when running this notebook, click Kernel->Restart, use a smaller batch size, and try again."
   ]
  },
  {
   "cell_type": "code",
   "execution_count": null,
   "metadata": {},
   "outputs": [],
   "source": [
    "out_features = df.malignancy.nunique() \n",
    "model,layer_groups = create_model(out_features=out_features, dropout_ps=dropout_ps)"
   ]
  },
  {
   "cell_type": "markdown",
   "metadata": {},
   "source": [
    "### Data augmentation and progressive resizing\n",
    "One way to create more data is by utilizing a technique called data augmentation. One creates \"new\" training data from the existing by applying simple transformations (e.g., rotation, zooming, flipping, etc). However, note that data augmentation should be used with caution, taking care not to change the meaning of the images. "
   ]
  },
  {
   "cell_type": "markdown",
   "metadata": {},
   "source": [
    "Below, in the `get_transform()` function, we set `rescale=2`. Starting training with small images than progressively increasing to larger images is a great way to reduce training time and in some cases increase model performance. This approach is known as progressive resizing. \n",
    "It acts as a form of data augmentation and can help to reduce overfitting."
   ]
  },
  {
   "cell_type": "code",
   "execution_count": null,
   "metadata": {},
   "outputs": [],
   "source": [
    "data = (src.transform(get_transforms(largest_img_size=LARGEST_IMG_SIZE, rescale=2, degrees=35)).databunch(bs=bs))"
   ]
  },
  {
   "cell_type": "markdown",
   "metadata": {},
   "source": [
    "Here is how the training data looks like:"
   ]
  },
  {
   "cell_type": "code",
   "execution_count": null,
   "metadata": {},
   "outputs": [
    {
     "data": {
      "image/png": "[encoded data removed]",
      "text/plain": [
       "<Figure size 720x720 with 9 Axes>"
      ]
     },
     "metadata": {
      "needs_background": "light"
     },
     "output_type": "display_data"
    }
   ],
   "source": [
    "data.show_batch(rows=3, figsize=(10,10), anatomical_plane='sagittal')"
   ]
  },
  {
   "cell_type": "markdown",
   "metadata": {},
   "source": [
    "Now we can create a learner from our chosen model architecture and data:"
   ]
  },
  {
   "cell_type": "code",
   "execution_count": null,
   "metadata": {},
   "outputs": [],
   "source": [
    "learn = create_learner(data=data, model=model, layer_groups=layer_groups, metrics=accuracy)"
   ]
  },
  {
   "cell_type": "markdown",
   "metadata": {},
   "source": [
    "A summary of our custome-made 3D-CNN "
   ]
  },
  {
   "cell_type": "code",
   "execution_count": null,
   "metadata": {},
   "outputs": [
    {
     "data": {
      "text/plain": [
       "DataParallel\n",
       "======================================================================\n",
       "Layer (type)         Output Shape         Param #    Trainable \n",
       "======================================================================\n",
       "Conv3d               [64, 44, 46, 31]     1,792      True      \n",
       "______________________________________________________________________\n",
       "BatchNorm3d          [64, 44, 46, 31]     128        True      \n",
       "______________________________________________________________________\n",
       "ReLU                 [64, 44, 46, 31]     0          False     \n",
       "______________________________________________________________________\n",
       "MaxPool3d            [64, 22, 23, 15]     0          False     \n",
       "______________________________________________________________________\n",
       "Conv3d               [64, 22, 23, 15]     110,656    True      \n",
       "______________________________________________________________________\n",
       "BatchNorm3d          [64, 22, 23, 15]     128        True      \n",
       "______________________________________________________________________\n",
       "ReLU                 [64, 22, 23, 15]     0          False     \n",
       "______________________________________________________________________\n",
       "Conv3d               [64, 22, 23, 15]     110,656    True      \n",
       "______________________________________________________________________\n",
       "BatchNorm3d          [64, 22, 23, 15]     128        True      \n",
       "______________________________________________________________________\n",
       "ReLU                 [64, 22, 23, 15]     0          False     \n",
       "______________________________________________________________________\n",
       "Conv3d               [64, 22, 23, 15]     110,656    True      \n",
       "______________________________________________________________________\n",
       "BatchNorm3d          [64, 22, 23, 15]     128        True      \n",
       "______________________________________________________________________\n",
       "Conv3d               [64, 22, 23, 15]     110,656    True      \n",
       "______________________________________________________________________\n",
       "BatchNorm3d          [64, 22, 23, 15]     128        True      \n",
       "______________________________________________________________________\n",
       "ReLU                 [64, 22, 23, 15]     0          False     \n",
       "______________________________________________________________________\n",
       "Conv3d               [64, 22, 23, 15]     110,656    True      \n",
       "______________________________________________________________________\n",
       "BatchNorm3d          [64, 22, 23, 15]     128        True      \n",
       "______________________________________________________________________\n",
       "ReLU                 [64, 22, 23, 15]     0          False     \n",
       "______________________________________________________________________\n",
       "Conv3d               [64, 22, 23, 15]     110,656    True      \n",
       "______________________________________________________________________\n",
       "BatchNorm3d          [64, 22, 23, 15]     128        True      \n",
       "______________________________________________________________________\n",
       "MaxPool3d            [64, 11, 11, 7]      0          False     \n",
       "______________________________________________________________________\n",
       "Conv3d               [128, 11, 11, 7]     221,312    True      \n",
       "______________________________________________________________________\n",
       "BatchNorm3d          [128, 11, 11, 7]     256        True      \n",
       "______________________________________________________________________\n",
       "ReLU                 [128, 11, 11, 7]     0          False     \n",
       "______________________________________________________________________\n",
       "Conv3d               [128, 11, 11, 7]     442,496    True      \n",
       "______________________________________________________________________\n",
       "BatchNorm3d          [128, 11, 11, 7]     256        True      \n",
       "______________________________________________________________________\n",
       "ReLU                 [128, 11, 11, 7]     0          False     \n",
       "______________________________________________________________________\n",
       "Conv3d               [128, 11, 11, 7]     442,496    True      \n",
       "______________________________________________________________________\n",
       "BatchNorm3d          [128, 11, 11, 7]     256        True      \n",
       "______________________________________________________________________\n",
       "MaxPool3d            [128, 5, 5, 3]       0          False     \n",
       "______________________________________________________________________\n",
       "Conv3d               [256, 5, 5, 3]       884,992    True      \n",
       "______________________________________________________________________\n",
       "BatchNorm3d          [256, 5, 5, 3]       512        True      \n",
       "______________________________________________________________________\n",
       "ReLU                 [256, 5, 5, 3]       0          False     \n",
       "______________________________________________________________________\n",
       "Conv3d               [256, 5, 5, 3]       1,769,728  True      \n",
       "______________________________________________________________________\n",
       "BatchNorm3d          [256, 5, 5, 3]       512        True      \n",
       "______________________________________________________________________\n",
       "ReLU                 [256, 5, 5, 3]       0          False     \n",
       "______________________________________________________________________\n",
       "Conv3d               [256, 5, 5, 3]       1,769,728  True      \n",
       "______________________________________________________________________\n",
       "BatchNorm3d          [256, 5, 5, 3]       512        True      \n",
       "______________________________________________________________________\n",
       "MaxPool3d            [256, 2, 2, 1]       0          False     \n",
       "______________________________________________________________________\n",
       "Conv3d               [512, 2, 2, 1]       3,539,456  True      \n",
       "______________________________________________________________________\n",
       "BatchNorm3d          [512, 2, 2, 1]       1,024      True      \n",
       "______________________________________________________________________\n",
       "ReLU                 [512, 2, 2, 1]       0          False     \n",
       "______________________________________________________________________\n",
       "Conv3d               [512, 2, 2, 1]       7,078,400  True      \n",
       "______________________________________________________________________\n",
       "BatchNorm3d          [512, 2, 2, 1]       1,024      True      \n",
       "______________________________________________________________________\n",
       "ReLU                 [512, 2, 2, 1]       0          False     \n",
       "______________________________________________________________________\n",
       "Conv3d               [512, 2, 2, 1]       7,078,400  True      \n",
       "______________________________________________________________________\n",
       "BatchNorm3d          [512, 2, 2, 1]       1,024      True      \n",
       "______________________________________________________________________\n",
       "AdaptiveAvgPool3d    [512, 1, 1, 1]       0          False     \n",
       "______________________________________________________________________\n",
       "AdaptiveMaxPool3d    [512, 1, 1, 1]       0          False     \n",
       "______________________________________________________________________\n",
       "Flatten              [1024]               0          False     \n",
       "______________________________________________________________________\n",
       "BatchNorm1d          [1024]               2,048      True      \n",
       "______________________________________________________________________\n",
       "Dropout              [1024]               0          False     \n",
       "______________________________________________________________________\n",
       "Linear               [512]                524,800    True      \n",
       "______________________________________________________________________\n",
       "ReLU                 [512]                0          False     \n",
       "______________________________________________________________________\n",
       "BatchNorm1d          [512]                1,024      True      \n",
       "______________________________________________________________________\n",
       "Dropout              [512]                0          False     \n",
       "______________________________________________________________________\n",
       "Linear               [2]                  1,026      True      \n",
       "______________________________________________________________________\n",
       "\n",
       "Total params: 24,427,906\n",
       "Total trainable params: 24,427,906\n",
       "Total non-trainable params: 0\n",
       "Optimized with 'torch.optim.adam.Adam', betas=(0.9, 0.99)\n",
       "Using true weight decay as discussed in https://www.fast.ai/2018/07/02/adam-weight-decay/ \n",
       "Loss function : FlattenedLoss\n",
       "======================================================================\n",
       "Callbacks functions applied \n",
       "    MixedPrecision"
      ]
     },
     "execution_count": null,
     "metadata": {},
     "output_type": "execute_result"
    }
   ],
   "source": [
    "learn.summary()"
   ]
  },
  {
   "cell_type": "markdown",
   "metadata": {},
   "source": [
    "# Training"
   ]
  },
  {
   "cell_type": "markdown",
   "metadata": {},
   "source": [
    "`lr.lr_find()` helps us to find an optimum learning rate value. It uses the technique described in <a href=\"https://arxiv.org/abs/1506.01186\"> Cyclical Learning Rates for Training Neural Networks </a>. The learning rate is increased from a small value until the loss stops decreasing. Note that the optimal learning rate can change as we train our model. Hence, we re-run this function later in this notebook."
   ]
  },
  {
   "cell_type": "code",
   "execution_count": null,
   "metadata": {},
   "outputs": [
    {
     "data": {
      "text/html": [
       "\n",
       "    <div>\n",
       "        <style>\n",
       "            /* Turns off some styling */\n",
       "            progress {\n",
       "                /* gets rid of default border in Firefox and Opera. */\n",
       "                border: none;\n",
       "                /* Needs to be in here for Safari polyfill so background images work as expected. */\n",
       "                background-size: auto;\n",
       "            }\n",
       "            .progress-bar-interrupted, .progress-bar-interrupted::-webkit-progress-bar {\n",
       "                background: #F44336;\n",
       "            }\n",
       "        </style>\n",
       "      <progress value='12' class='' max='15', style='width:300px; height:20px; vertical-align: middle;'></progress>\n",
       "      80.00% [12/15 00:25<00:06]\n",
       "    </div>\n",
       "    \n",
       "<table border=\"1\" class=\"dataframe\">\n",
       "  <thead>\n",
       "    <tr style=\"text-align: left;\">\n",
       "      <th>epoch</th>\n",
       "      <th>train_loss</th>\n",
       "      <th>valid_loss</th>\n",
       "      <th>accuracy</th>\n",
       "      <th>time</th>\n",
       "    </tr>\n",
       "  </thead>\n",
       "  <tbody>\n",
       "    <tr>\n",
       "      <td>0</td>\n",
       "      <td>0.821984</td>\n",
       "      <td>#na#</td>\n",
       "      <td>00:02</td>\n",
       "    </tr>\n",
       "    <tr>\n",
       "      <td>1</td>\n",
       "      <td>0.764788</td>\n",
       "      <td>#na#</td>\n",
       "      <td>00:02</td>\n",
       "    </tr>\n",
       "    <tr>\n",
       "      <td>2</td>\n",
       "      <td>0.695761</td>\n",
       "      <td>#na#</td>\n",
       "      <td>00:02</td>\n",
       "    </tr>\n",
       "    <tr>\n",
       "      <td>3</td>\n",
       "      <td>0.626155</td>\n",
       "      <td>#na#</td>\n",
       "      <td>00:02</td>\n",
       "    </tr>\n",
       "    <tr>\n",
       "      <td>4</td>\n",
       "      <td>0.577548</td>\n",
       "      <td>#na#</td>\n",
       "      <td>00:02</td>\n",
       "    </tr>\n",
       "    <tr>\n",
       "      <td>5</td>\n",
       "      <td>0.536706</td>\n",
       "      <td>#na#</td>\n",
       "      <td>00:02</td>\n",
       "    </tr>\n",
       "    <tr>\n",
       "      <td>6</td>\n",
       "      <td>0.522082</td>\n",
       "      <td>#na#</td>\n",
       "      <td>00:02</td>\n",
       "    </tr>\n",
       "    <tr>\n",
       "      <td>7</td>\n",
       "      <td>0.518851</td>\n",
       "      <td>#na#</td>\n",
       "      <td>00:02</td>\n",
       "    </tr>\n",
       "    <tr>\n",
       "      <td>8</td>\n",
       "      <td>0.510241</td>\n",
       "      <td>#na#</td>\n",
       "      <td>00:02</td>\n",
       "    </tr>\n",
       "    <tr>\n",
       "      <td>9</td>\n",
       "      <td>0.525205</td>\n",
       "      <td>#na#</td>\n",
       "      <td>00:02</td>\n",
       "    </tr>\n",
       "    <tr>\n",
       "      <td>10</td>\n",
       "      <td>0.667523</td>\n",
       "      <td>#na#</td>\n",
       "      <td>00:02</td>\n",
       "    </tr>\n",
       "    <tr>\n",
       "      <td>11</td>\n",
       "      <td>1.234929</td>\n",
       "      <td>#na#</td>\n",
       "      <td>00:02</td>\n",
       "    </tr>\n",
       "  </tbody>\n",
       "</table><p>\n",
       "\n",
       "    <div>\n",
       "        <style>\n",
       "            /* Turns off some styling */\n",
       "            progress {\n",
       "                /* gets rid of default border in Firefox and Opera. */\n",
       "                border: none;\n",
       "                /* Needs to be in here for Safari polyfill so background images work as expected. */\n",
       "                background-size: auto;\n",
       "            }\n",
       "            .progress-bar-interrupted, .progress-bar-interrupted::-webkit-progress-bar {\n",
       "                background: #F44336;\n",
       "            }\n",
       "        </style>\n",
       "      <progress value='3' class='' max='7', style='width:300px; height:20px; vertical-align: middle;'></progress>\n",
       "      42.86% [3/7 00:01<00:01 1.6920]\n",
       "    </div>\n",
       "    "
      ],
      "text/plain": [
       "<IPython.core.display.HTML object>"
      ]
     },
     "metadata": {},
     "output_type": "display_data"
    },
    {
     "name": "stdout",
     "output_type": "stream",
     "text": [
      "LR Finder is complete, type {learner_name}.recorder.plot() to see the graph.\n",
      "Min numerical gradient: 1.20E-05\n",
      "Min loss divided by 10: 2.29E-03\n"
     ]
    },
    {
     "data": {
      "image/png": "[encoded data removed]",
      "text/plain": [
       "<Figure size 432x288 with 1 Axes>"
      ]
     },
     "metadata": {
      "needs_background": "light"
     },
     "output_type": "display_data"
    }
   ],
   "source": [
    "learn.lr_find()\n",
    "learn.recorder.plot(suggestion=True)"
   ]
  },
  {
   "cell_type": "code",
   "execution_count": null,
   "metadata": {},
   "outputs": [
    {
     "data": {
      "text/plain": [
       "3.311311214825911e-06"
      ]
     },
     "execution_count": null,
     "metadata": {},
     "output_type": "execute_result"
    }
   ],
   "source": [
    "min_grad_lr = learn.recorder.min_grad_lr\n",
    "min_grad_lr"
   ]
  },
  {
   "cell_type": "markdown",
   "metadata": {},
   "source": [
    "## The 1cycle policy\n",
    "`learn.fit_one_cycle()` is fastai's implementations of Leslie Smith's <a href=\"https://arxiv.org/pdf/1803.09820.pdf\"> 1cycle policy </a> (e.g., learning rate changes during the training, related to what is called superconvergence)).  "
   ]
  },
  {
   "cell_type": "code",
   "execution_count": null,
   "metadata": {},
   "outputs": [
    {
     "data": {
      "text/html": [
       "<table border=\"1\" class=\"dataframe\">\n",
       "  <thead>\n",
       "    <tr style=\"text-align: left;\">\n",
       "      <th>epoch</th>\n",
       "      <th>train_loss</th>\n",
       "      <th>valid_loss</th>\n",
       "      <th>accuracy</th>\n",
       "      <th>time</th>\n",
       "    </tr>\n",
       "  </thead>\n",
       "  <tbody>\n",
       "    <tr>\n",
       "      <td>0</td>\n",
       "      <td>0.820741</td>\n",
       "      <td>0.924567</td>\n",
       "      <td>0.292553</td>\n",
       "      <td>00:06</td>\n",
       "    </tr>\n",
       "    <tr>\n",
       "      <td>1</td>\n",
       "      <td>0.775123</td>\n",
       "      <td>1.164415</td>\n",
       "      <td>0.292553</td>\n",
       "      <td>00:07</td>\n",
       "    </tr>\n",
       "    <tr>\n",
       "      <td>2</td>\n",
       "      <td>0.697410</td>\n",
       "      <td>0.994200</td>\n",
       "      <td>0.292553</td>\n",
       "      <td>00:07</td>\n",
       "    </tr>\n",
       "    <tr>\n",
       "      <td>3</td>\n",
       "      <td>0.620821</td>\n",
       "      <td>0.584089</td>\n",
       "      <td>0.739362</td>\n",
       "      <td>00:06</td>\n",
       "    </tr>\n",
       "    <tr>\n",
       "      <td>4</td>\n",
       "      <td>0.565042</td>\n",
       "      <td>0.396232</td>\n",
       "      <td>0.840426</td>\n",
       "      <td>00:06</td>\n",
       "    </tr>\n",
       "    <tr>\n",
       "      <td>5</td>\n",
       "      <td>0.520230</td>\n",
       "      <td>0.350352</td>\n",
       "      <td>0.851064</td>\n",
       "      <td>00:06</td>\n",
       "    </tr>\n",
       "    <tr>\n",
       "      <td>6</td>\n",
       "      <td>0.486665</td>\n",
       "      <td>0.344977</td>\n",
       "      <td>0.867021</td>\n",
       "      <td>00:06</td>\n",
       "    </tr>\n",
       "    <tr>\n",
       "      <td>7</td>\n",
       "      <td>0.460238</td>\n",
       "      <td>0.359578</td>\n",
       "      <td>0.856383</td>\n",
       "      <td>00:06</td>\n",
       "    </tr>\n",
       "    <tr>\n",
       "      <td>8</td>\n",
       "      <td>0.437374</td>\n",
       "      <td>0.354910</td>\n",
       "      <td>0.840426</td>\n",
       "      <td>00:07</td>\n",
       "    </tr>\n",
       "    <tr>\n",
       "      <td>9</td>\n",
       "      <td>0.414867</td>\n",
       "      <td>0.362401</td>\n",
       "      <td>0.845745</td>\n",
       "      <td>00:06</td>\n",
       "    </tr>\n",
       "    <tr>\n",
       "      <td>10</td>\n",
       "      <td>0.399827</td>\n",
       "      <td>0.364371</td>\n",
       "      <td>0.835106</td>\n",
       "      <td>00:06</td>\n",
       "    </tr>\n",
       "    <tr>\n",
       "      <td>11</td>\n",
       "      <td>0.388152</td>\n",
       "      <td>0.359425</td>\n",
       "      <td>0.845745</td>\n",
       "      <td>00:06</td>\n",
       "    </tr>\n",
       "    <tr>\n",
       "      <td>12</td>\n",
       "      <td>0.375509</td>\n",
       "      <td>0.333034</td>\n",
       "      <td>0.856383</td>\n",
       "      <td>00:06</td>\n",
       "    </tr>\n",
       "    <tr>\n",
       "      <td>13</td>\n",
       "      <td>0.360480</td>\n",
       "      <td>0.338991</td>\n",
       "      <td>0.861702</td>\n",
       "      <td>00:07</td>\n",
       "    </tr>\n",
       "    <tr>\n",
       "      <td>14</td>\n",
       "      <td>0.355146</td>\n",
       "      <td>0.337749</td>\n",
       "      <td>0.861702</td>\n",
       "      <td>00:06</td>\n",
       "    </tr>\n",
       "    <tr>\n",
       "      <td>15</td>\n",
       "      <td>0.343369</td>\n",
       "      <td>0.331636</td>\n",
       "      <td>0.856383</td>\n",
       "      <td>00:06</td>\n",
       "    </tr>\n",
       "    <tr>\n",
       "      <td>16</td>\n",
       "      <td>0.339722</td>\n",
       "      <td>0.334962</td>\n",
       "      <td>0.856383</td>\n",
       "      <td>00:06</td>\n",
       "    </tr>\n",
       "    <tr>\n",
       "      <td>17</td>\n",
       "      <td>0.336564</td>\n",
       "      <td>0.362175</td>\n",
       "      <td>0.845745</td>\n",
       "      <td>00:06</td>\n",
       "    </tr>\n",
       "    <tr>\n",
       "      <td>18</td>\n",
       "      <td>0.332071</td>\n",
       "      <td>0.340968</td>\n",
       "      <td>0.856383</td>\n",
       "      <td>00:06</td>\n",
       "    </tr>\n",
       "    <tr>\n",
       "      <td>19</td>\n",
       "      <td>0.331926</td>\n",
       "      <td>0.324520</td>\n",
       "      <td>0.861702</td>\n",
       "      <td>00:06</td>\n",
       "    </tr>\n",
       "  </tbody>\n",
       "</table>"
      ],
      "text/plain": [
       "<IPython.core.display.HTML object>"
      ]
     },
     "metadata": {},
     "output_type": "display_data"
    }
   ],
   "source": [
    "learn.fit_one_cycle(20,min_grad_lr)"
   ]
  },
  {
   "cell_type": "code",
   "execution_count": null,
   "metadata": {},
   "outputs": [],
   "source": [
    "learn.save('model_resized')"
   ]
  },
  {
   "cell_type": "markdown",
   "metadata": {},
   "source": [
    "## Train using larger images"
   ]
  },
  {
   "cell_type": "code",
   "execution_count": null,
   "metadata": {},
   "outputs": [],
   "source": [
    "bs = 128 # Note: You may have to change this if you run out of GPU memory."
   ]
  },
  {
   "cell_type": "code",
   "execution_count": null,
   "metadata": {},
   "outputs": [],
   "source": [
    "data = src.transform(get_transforms(largest_img_size=LARGEST_IMG_SIZE, degrees=35)).databunch(bs=bs)"
   ]
  },
  {
   "cell_type": "code",
   "execution_count": null,
   "metadata": {},
   "outputs": [],
   "source": [
    "learn = create_learner(data=data, model=model, layer_groups=layer_groups, metrics=accuracy)"
   ]
  },
  {
   "cell_type": "markdown",
   "metadata": {},
   "source": [
    "Load the weights for the previous model trained on the small images and freeze the early layers, only retraining the final layer."
   ]
  },
  {
   "cell_type": "code",
   "execution_count": null,
   "metadata": {},
   "outputs": [],
   "source": [
    "learn.load('model_resized');\n",
    "learn.freeze_to(1);"
   ]
  },
  {
   "cell_type": "code",
   "execution_count": null,
   "metadata": {},
   "outputs": [
    {
     "data": {
      "text/html": [
       "\n",
       "    <div>\n",
       "        <style>\n",
       "            /* Turns off some styling */\n",
       "            progress {\n",
       "                /* gets rid of default border in Firefox and Opera. */\n",
       "                border: none;\n",
       "                /* Needs to be in here for Safari polyfill so background images work as expected. */\n",
       "                background-size: auto;\n",
       "            }\n",
       "            .progress-bar-interrupted, .progress-bar-interrupted::-webkit-progress-bar {\n",
       "                background: #F44336;\n",
       "            }\n",
       "        </style>\n",
       "      <progress value='7' class='' max='9', style='width:300px; height:20px; vertical-align: middle;'></progress>\n",
       "      77.78% [7/9 00:45<00:13]\n",
       "    </div>\n",
       "    \n",
       "<table border=\"1\" class=\"dataframe\">\n",
       "  <thead>\n",
       "    <tr style=\"text-align: left;\">\n",
       "      <th>epoch</th>\n",
       "      <th>train_loss</th>\n",
       "      <th>valid_loss</th>\n",
       "      <th>accuracy</th>\n",
       "      <th>time</th>\n",
       "    </tr>\n",
       "  </thead>\n",
       "  <tbody>\n",
       "    <tr>\n",
       "      <td>0</td>\n",
       "      <td>0.846822</td>\n",
       "      <td>#na#</td>\n",
       "      <td>00:07</td>\n",
       "    </tr>\n",
       "    <tr>\n",
       "      <td>1</td>\n",
       "      <td>0.654966</td>\n",
       "      <td>#na#</td>\n",
       "      <td>00:06</td>\n",
       "    </tr>\n",
       "    <tr>\n",
       "      <td>2</td>\n",
       "      <td>0.552864</td>\n",
       "      <td>#na#</td>\n",
       "      <td>00:06</td>\n",
       "    </tr>\n",
       "    <tr>\n",
       "      <td>3</td>\n",
       "      <td>0.502946</td>\n",
       "      <td>#na#</td>\n",
       "      <td>00:06</td>\n",
       "    </tr>\n",
       "    <tr>\n",
       "      <td>4</td>\n",
       "      <td>0.489237</td>\n",
       "      <td>#na#</td>\n",
       "      <td>00:06</td>\n",
       "    </tr>\n",
       "    <tr>\n",
       "      <td>5</td>\n",
       "      <td>0.489870</td>\n",
       "      <td>#na#</td>\n",
       "      <td>00:06</td>\n",
       "    </tr>\n",
       "    <tr>\n",
       "      <td>6</td>\n",
       "      <td>1.452741</td>\n",
       "      <td>#na#</td>\n",
       "      <td>00:06</td>\n",
       "    </tr>\n",
       "  </tbody>\n",
       "</table><p>\n",
       "\n",
       "    <div>\n",
       "        <style>\n",
       "            /* Turns off some styling */\n",
       "            progress {\n",
       "                /* gets rid of default border in Firefox and Opera. */\n",
       "                border: none;\n",
       "                /* Needs to be in here for Safari polyfill so background images work as expected. */\n",
       "                background-size: auto;\n",
       "            }\n",
       "            .progress-bar-interrupted, .progress-bar-interrupted::-webkit-progress-bar {\n",
       "                background: #F44336;\n",
       "            }\n",
       "        </style>\n",
       "      <progress value='1' class='' max='12', style='width:300px; height:20px; vertical-align: middle;'></progress>\n",
       "      8.33% [1/12 00:03<00:43 1.5567]\n",
       "    </div>\n",
       "    "
      ],
      "text/plain": [
       "<IPython.core.display.HTML object>"
      ]
     },
     "metadata": {},
     "output_type": "display_data"
    },
    {
     "name": "stdout",
     "output_type": "stream",
     "text": [
      "LR Finder is complete, type {learner_name}.recorder.plot() to see the graph.\n",
      "Min numerical gradient: 1.58E-06\n",
      "Min loss divided by 10: 3.63E-04\n"
     ]
    },
    {
     "data": {
      "image/png": "[encoded data removed]",
      "text/plain": [
       "<Figure size 432x288 with 1 Axes>"
      ]
     },
     "metadata": {
      "needs_background": "light"
     },
     "output_type": "display_data"
    }
   ],
   "source": [
    "learn.lr_find()\n",
    "learn.recorder.plot(suggestion=True)"
   ]
  },
  {
   "cell_type": "code",
   "execution_count": null,
   "metadata": {},
   "outputs": [
    {
     "data": {
      "text/plain": [
       "1.5848931924611132e-06"
      ]
     },
     "execution_count": null,
     "metadata": {},
     "output_type": "execute_result"
    }
   ],
   "source": [
    "min_grad_lr = learn.recorder.min_grad_lr\n",
    "min_grad_lr"
   ]
  },
  {
   "cell_type": "markdown",
   "metadata": {},
   "source": [
    "The early layers in CNNs often end up learning low-level features, such as edges, colors shapes, etc. Therefore we would expect them to need less fine-tuning for the original sized image. For this reason, we will use a lower learning rate for early layers compared to the later layers. This technique is called discriminative learning rates.\n",
    "With `slice(lr)` the final layer gets `lr` value and earlier layers get `lr/3`. If two arguments are passed to the `slice()` function, then the early layers get the value from the first argument and final layers get the value from the second argument, and the layers between them get learning rate between values.\n",
    "Note that if `slice()` function is not used, then all the layers get the same learning rate. "
   ]
  },
  {
   "cell_type": "code",
   "execution_count": null,
   "metadata": {},
   "outputs": [
    {
     "data": {
      "text/html": [
       "<table border=\"1\" class=\"dataframe\">\n",
       "  <thead>\n",
       "    <tr style=\"text-align: left;\">\n",
       "      <th>epoch</th>\n",
       "      <th>train_loss</th>\n",
       "      <th>valid_loss</th>\n",
       "      <th>accuracy</th>\n",
       "      <th>time</th>\n",
       "    </tr>\n",
       "  </thead>\n",
       "  <tbody>\n",
       "    <tr>\n",
       "      <td>0</td>\n",
       "      <td>0.886672</td>\n",
       "      <td>0.666520</td>\n",
       "      <td>0.627660</td>\n",
       "      <td>00:09</td>\n",
       "    </tr>\n",
       "    <tr>\n",
       "      <td>1</td>\n",
       "      <td>0.859959</td>\n",
       "      <td>0.665045</td>\n",
       "      <td>0.622340</td>\n",
       "      <td>00:09</td>\n",
       "    </tr>\n",
       "    <tr>\n",
       "      <td>2</td>\n",
       "      <td>0.811115</td>\n",
       "      <td>0.613890</td>\n",
       "      <td>0.718085</td>\n",
       "      <td>00:09</td>\n",
       "    </tr>\n",
       "    <tr>\n",
       "      <td>3</td>\n",
       "      <td>0.749038</td>\n",
       "      <td>0.549227</td>\n",
       "      <td>0.765957</td>\n",
       "      <td>00:09</td>\n",
       "    </tr>\n",
       "    <tr>\n",
       "      <td>4</td>\n",
       "      <td>0.696851</td>\n",
       "      <td>0.496975</td>\n",
       "      <td>0.803191</td>\n",
       "      <td>00:09</td>\n",
       "    </tr>\n",
       "    <tr>\n",
       "      <td>5</td>\n",
       "      <td>0.651462</td>\n",
       "      <td>0.457650</td>\n",
       "      <td>0.829787</td>\n",
       "      <td>00:09</td>\n",
       "    </tr>\n",
       "    <tr>\n",
       "      <td>6</td>\n",
       "      <td>0.611906</td>\n",
       "      <td>0.436464</td>\n",
       "      <td>0.835106</td>\n",
       "      <td>00:09</td>\n",
       "    </tr>\n",
       "    <tr>\n",
       "      <td>7</td>\n",
       "      <td>0.584252</td>\n",
       "      <td>0.426855</td>\n",
       "      <td>0.845745</td>\n",
       "      <td>00:09</td>\n",
       "    </tr>\n",
       "    <tr>\n",
       "      <td>8</td>\n",
       "      <td>0.567955</td>\n",
       "      <td>0.425989</td>\n",
       "      <td>0.851064</td>\n",
       "      <td>00:09</td>\n",
       "    </tr>\n",
       "    <tr>\n",
       "      <td>9</td>\n",
       "      <td>0.554877</td>\n",
       "      <td>0.426496</td>\n",
       "      <td>0.845745</td>\n",
       "      <td>00:09</td>\n",
       "    </tr>\n",
       "  </tbody>\n",
       "</table>"
      ],
      "text/plain": [
       "<IPython.core.display.HTML object>"
      ]
     },
     "metadata": {},
     "output_type": "display_data"
    }
   ],
   "source": [
    "learn.fit_one_cycle(10,slice(min_grad_lr))"
   ]
  },
  {
   "cell_type": "markdown",
   "metadata": {},
   "source": [
    "Try fine-tuning all the layers"
   ]
  },
  {
   "cell_type": "code",
   "execution_count": null,
   "metadata": {},
   "outputs": [],
   "source": [
    "learn.unfreeze();"
   ]
  },
  {
   "cell_type": "code",
   "execution_count": null,
   "metadata": {},
   "outputs": [
    {
     "data": {
      "text/html": [
       "\n",
       "    <div>\n",
       "        <style>\n",
       "            /* Turns off some styling */\n",
       "            progress {\n",
       "                /* gets rid of default border in Firefox and Opera. */\n",
       "                border: none;\n",
       "                /* Needs to be in here for Safari polyfill so background images work as expected. */\n",
       "                background-size: auto;\n",
       "            }\n",
       "            .progress-bar-interrupted, .progress-bar-interrupted::-webkit-progress-bar {\n",
       "                background: #F44336;\n",
       "            }\n",
       "        </style>\n",
       "      <progress value='7' class='' max='9', style='width:300px; height:20px; vertical-align: middle;'></progress>\n",
       "      77.78% [7/9 01:06<00:19]\n",
       "    </div>\n",
       "    \n",
       "<table border=\"1\" class=\"dataframe\">\n",
       "  <thead>\n",
       "    <tr style=\"text-align: left;\">\n",
       "      <th>epoch</th>\n",
       "      <th>train_loss</th>\n",
       "      <th>valid_loss</th>\n",
       "      <th>accuracy</th>\n",
       "      <th>time</th>\n",
       "    </tr>\n",
       "  </thead>\n",
       "  <tbody>\n",
       "    <tr>\n",
       "      <td>0</td>\n",
       "      <td>0.506414</td>\n",
       "      <td>#na#</td>\n",
       "      <td>00:09</td>\n",
       "    </tr>\n",
       "    <tr>\n",
       "      <td>1</td>\n",
       "      <td>0.461339</td>\n",
       "      <td>#na#</td>\n",
       "      <td>00:09</td>\n",
       "    </tr>\n",
       "    <tr>\n",
       "      <td>2</td>\n",
       "      <td>0.431579</td>\n",
       "      <td>#na#</td>\n",
       "      <td>00:09</td>\n",
       "    </tr>\n",
       "    <tr>\n",
       "      <td>3</td>\n",
       "      <td>0.432977</td>\n",
       "      <td>#na#</td>\n",
       "      <td>00:09</td>\n",
       "    </tr>\n",
       "    <tr>\n",
       "      <td>4</td>\n",
       "      <td>0.432411</td>\n",
       "      <td>#na#</td>\n",
       "      <td>00:09</td>\n",
       "    </tr>\n",
       "    <tr>\n",
       "      <td>5</td>\n",
       "      <td>0.449354</td>\n",
       "      <td>#na#</td>\n",
       "      <td>00:09</td>\n",
       "    </tr>\n",
       "    <tr>\n",
       "      <td>6</td>\n",
       "      <td>1.513803</td>\n",
       "      <td>#na#</td>\n",
       "      <td>00:09</td>\n",
       "    </tr>\n",
       "  </tbody>\n",
       "</table><p>\n",
       "\n",
       "    <div>\n",
       "        <style>\n",
       "            /* Turns off some styling */\n",
       "            progress {\n",
       "                /* gets rid of default border in Firefox and Opera. */\n",
       "                border: none;\n",
       "                /* Needs to be in here for Safari polyfill so background images work as expected. */\n",
       "                background-size: auto;\n",
       "            }\n",
       "            .progress-bar-interrupted, .progress-bar-interrupted::-webkit-progress-bar {\n",
       "                background: #F44336;\n",
       "            }\n",
       "        </style>\n",
       "      <progress value='0' class='' max='12', style='width:300px; height:20px; vertical-align: middle;'></progress>\n",
       "      0.00% [0/12 00:00<00:00]\n",
       "    </div>\n",
       "    "
      ],
      "text/plain": [
       "<IPython.core.display.HTML object>"
      ]
     },
     "metadata": {},
     "output_type": "display_data"
    },
    {
     "name": "stdout",
     "output_type": "stream",
     "text": [
      "LR Finder is complete, type {learner_name}.recorder.plot() to see the graph.\n",
      "Min numerical gradient: 3.98E-06\n",
      "Min loss divided by 10: 7.59E-04\n"
     ]
    },
    {
     "data": {
      "image/png": "[encoded data removed]",
      "text/plain": [
       "<Figure size 432x288 with 1 Axes>"
      ]
     },
     "metadata": {
      "needs_background": "light"
     },
     "output_type": "display_data"
    }
   ],
   "source": [
    "learn.lr_find()\n",
    "learn.recorder.plot(suggestion=True)"
   ]
  },
  {
   "cell_type": "code",
   "execution_count": null,
   "metadata": {},
   "outputs": [
    {
     "data": {
      "text/plain": [
       "3.981071705534973e-06"
      ]
     },
     "execution_count": null,
     "metadata": {},
     "output_type": "execute_result"
    }
   ],
   "source": [
    "min_grad_lr = learn.recorder.min_grad_lr\n",
    "min_grad_lr"
   ]
  },
  {
   "cell_type": "code",
   "execution_count": null,
   "metadata": {},
   "outputs": [],
   "source": [
    "lr = 1e-05"
   ]
  },
  {
   "cell_type": "code",
   "execution_count": null,
   "metadata": {},
   "outputs": [
    {
     "data": {
      "text/html": [
       "<table border=\"1\" class=\"dataframe\">\n",
       "  <thead>\n",
       "    <tr style=\"text-align: left;\">\n",
       "      <th>epoch</th>\n",
       "      <th>train_loss</th>\n",
       "      <th>valid_loss</th>\n",
       "      <th>accuracy</th>\n",
       "      <th>time</th>\n",
       "    </tr>\n",
       "  </thead>\n",
       "  <tbody>\n",
       "    <tr>\n",
       "      <td>0</td>\n",
       "      <td>0.506291</td>\n",
       "      <td>0.394956</td>\n",
       "      <td>0.835106</td>\n",
       "      <td>00:13</td>\n",
       "    </tr>\n",
       "    <tr>\n",
       "      <td>1</td>\n",
       "      <td>0.468184</td>\n",
       "      <td>0.357708</td>\n",
       "      <td>0.851064</td>\n",
       "      <td>00:12</td>\n",
       "    </tr>\n",
       "    <tr>\n",
       "      <td>2</td>\n",
       "      <td>0.443541</td>\n",
       "      <td>0.327541</td>\n",
       "      <td>0.877660</td>\n",
       "      <td>00:12</td>\n",
       "    </tr>\n",
       "    <tr>\n",
       "      <td>3</td>\n",
       "      <td>0.425344</td>\n",
       "      <td>0.320318</td>\n",
       "      <td>0.888298</td>\n",
       "      <td>00:13</td>\n",
       "    </tr>\n",
       "    <tr>\n",
       "      <td>4</td>\n",
       "      <td>0.403845</td>\n",
       "      <td>0.326015</td>\n",
       "      <td>0.861702</td>\n",
       "      <td>00:13</td>\n",
       "    </tr>\n",
       "    <tr>\n",
       "      <td>5</td>\n",
       "      <td>0.388723</td>\n",
       "      <td>0.340787</td>\n",
       "      <td>0.867021</td>\n",
       "      <td>00:12</td>\n",
       "    </tr>\n",
       "    <tr>\n",
       "      <td>6</td>\n",
       "      <td>0.376348</td>\n",
       "      <td>0.331952</td>\n",
       "      <td>0.861702</td>\n",
       "      <td>00:12</td>\n",
       "    </tr>\n",
       "    <tr>\n",
       "      <td>7</td>\n",
       "      <td>0.364598</td>\n",
       "      <td>0.331937</td>\n",
       "      <td>0.872340</td>\n",
       "      <td>00:12</td>\n",
       "    </tr>\n",
       "    <tr>\n",
       "      <td>8</td>\n",
       "      <td>0.351781</td>\n",
       "      <td>0.338065</td>\n",
       "      <td>0.867021</td>\n",
       "      <td>00:12</td>\n",
       "    </tr>\n",
       "    <tr>\n",
       "      <td>9</td>\n",
       "      <td>0.342658</td>\n",
       "      <td>0.323716</td>\n",
       "      <td>0.872340</td>\n",
       "      <td>00:12</td>\n",
       "    </tr>\n",
       "    <tr>\n",
       "      <td>10</td>\n",
       "      <td>0.330597</td>\n",
       "      <td>0.329133</td>\n",
       "      <td>0.856383</td>\n",
       "      <td>00:13</td>\n",
       "    </tr>\n",
       "    <tr>\n",
       "      <td>11</td>\n",
       "      <td>0.324479</td>\n",
       "      <td>0.337411</td>\n",
       "      <td>0.872340</td>\n",
       "      <td>00:12</td>\n",
       "    </tr>\n",
       "  </tbody>\n",
       "</table>"
      ],
      "text/plain": [
       "<IPython.core.display.HTML object>"
      ]
     },
     "metadata": {},
     "output_type": "display_data"
    }
   ],
   "source": [
    "learn.fit_one_cycle(12,slice(lr/5, lr))"
   ]
  },
  {
   "cell_type": "code",
   "execution_count": null,
   "metadata": {},
   "outputs": [],
   "source": [
    "learn.save('classification_original')"
   ]
  },
  {
   "cell_type": "markdown",
   "metadata": {},
   "source": [
    "## Final model "
   ]
  },
  {
   "cell_type": "markdown",
   "metadata": {},
   "source": [
    "We train our final model on the entire training data set (i.e. also the validation data) for a couple of iteration, with a small learning rate. This trick might give a performance and robustness boost."
   ]
  },
  {
   "cell_type": "code",
   "execution_count": null,
   "metadata": {},
   "outputs": [],
   "source": [
    "df = pd.read_csv(PROCESSED_DATA/'train_data_patient_level_diagnosis.csv')\n",
    "df = df.append(df.loc[df.malignancy == 'malignant'], ignore_index=True) #upsampling for final model "
   ]
  },
  {
   "cell_type": "code",
   "execution_count": null,
   "metadata": {},
   "outputs": [],
   "source": [
    "src = NiiImageList.from_df(df, IMG_PATH).split_none().label_from_df(cols='malignancy')"
   ]
  },
  {
   "cell_type": "code",
   "execution_count": null,
   "metadata": {},
   "outputs": [],
   "source": [
    "data = src.transform(get_transforms(largest_img_size=LARGEST_IMG_SIZE, degrees=35)).databunch(bs=bs)"
   ]
  },
  {
   "cell_type": "code",
   "execution_count": null,
   "metadata": {},
   "outputs": [],
   "source": [
    "learn = create_learner(data=data, model=model, layer_groups=layer_groups, metrics=accuracy)"
   ]
  },
  {
   "cell_type": "code",
   "execution_count": null,
   "metadata": {},
   "outputs": [],
   "source": [
    "learn.load('classification_original');"
   ]
  },
  {
   "cell_type": "code",
   "execution_count": null,
   "metadata": {},
   "outputs": [
    {
     "data": {
      "text/html": [
       "<table border=\"1\" class=\"dataframe\">\n",
       "  <thead>\n",
       "    <tr style=\"text-align: left;\">\n",
       "      <th>epoch</th>\n",
       "      <th>train_loss</th>\n",
       "      <th>valid_loss</th>\n",
       "      <th>accuracy</th>\n",
       "      <th>time</th>\n",
       "    </tr>\n",
       "  </thead>\n",
       "  <tbody>\n",
       "    <tr>\n",
       "      <td>0</td>\n",
       "      <td>0.314418</td>\n",
       "      <td>#na#</td>\n",
       "      <td>00:10</td>\n",
       "    </tr>\n",
       "    <tr>\n",
       "      <td>1</td>\n",
       "      <td>0.309575</td>\n",
       "      <td>#na#</td>\n",
       "      <td>00:10</td>\n",
       "    </tr>\n",
       "    <tr>\n",
       "      <td>2</td>\n",
       "      <td>0.311441</td>\n",
       "      <td>#na#</td>\n",
       "      <td>00:10</td>\n",
       "    </tr>\n",
       "    <tr>\n",
       "      <td>3</td>\n",
       "      <td>0.304430</td>\n",
       "      <td>#na#</td>\n",
       "      <td>00:10</td>\n",
       "    </tr>\n",
       "    <tr>\n",
       "      <td>4</td>\n",
       "      <td>0.300538</td>\n",
       "      <td>#na#</td>\n",
       "      <td>00:10</td>\n",
       "    </tr>\n",
       "    <tr>\n",
       "      <td>5</td>\n",
       "      <td>0.295914</td>\n",
       "      <td>#na#</td>\n",
       "      <td>00:10</td>\n",
       "    </tr>\n",
       "    <tr>\n",
       "      <td>6</td>\n",
       "      <td>0.291965</td>\n",
       "      <td>#na#</td>\n",
       "      <td>00:10</td>\n",
       "    </tr>\n",
       "    <tr>\n",
       "      <td>7</td>\n",
       "      <td>0.285607</td>\n",
       "      <td>#na#</td>\n",
       "      <td>00:10</td>\n",
       "    </tr>\n",
       "    <tr>\n",
       "      <td>8</td>\n",
       "      <td>0.278313</td>\n",
       "      <td>#na#</td>\n",
       "      <td>00:10</td>\n",
       "    </tr>\n",
       "    <tr>\n",
       "      <td>9</td>\n",
       "      <td>0.269510</td>\n",
       "      <td>#na#</td>\n",
       "      <td>00:10</td>\n",
       "    </tr>\n",
       "    <tr>\n",
       "      <td>10</td>\n",
       "      <td>0.257787</td>\n",
       "      <td>#na#</td>\n",
       "      <td>00:10</td>\n",
       "    </tr>\n",
       "    <tr>\n",
       "      <td>11</td>\n",
       "      <td>0.253087</td>\n",
       "      <td>#na#</td>\n",
       "      <td>00:10</td>\n",
       "    </tr>\n",
       "  </tbody>\n",
       "</table>"
      ],
      "text/plain": [
       "<IPython.core.display.HTML object>"
      ]
     },
     "metadata": {},
     "output_type": "display_data"
    }
   ],
   "source": [
    "learn.fit_one_cycle(12,slice(lr/5, lr))"
   ]
  },
  {
   "cell_type": "code",
   "execution_count": null,
   "metadata": {},
   "outputs": [],
   "source": [
    "learn.save('final_model')"
   ]
  },
  {
   "cell_type": "markdown",
   "metadata": {},
   "source": [
    "# Model intepretation"
   ]
  },
  {
   "cell_type": "code",
   "execution_count": null,
   "metadata": {},
   "outputs": [],
   "source": [
    "df = pd.read_csv(PROCESSED_DATA/'train_data_patient_level_diagnosis.csv')\n",
    "df_test = pd.read_csv(PROCESSED_DATA/'test_data_patient_level_diagnosis.csv')\n",
    "df = df.append(df_test, ignore_index=True)"
   ]
  },
  {
   "cell_type": "code",
   "execution_count": null,
   "metadata": {},
   "outputs": [],
   "source": [
    "bs=1 #set the batch size to 1 in order to fit the inference on one GPU"
   ]
  },
  {
   "cell_type": "code",
   "execution_count": null,
   "metadata": {},
   "outputs": [],
   "source": [
    "df['usage'] = df['usage'].apply(lambda x: True if x == 'test' else False)"
   ]
  },
  {
   "cell_type": "code",
   "execution_count": null,
   "metadata": {},
   "outputs": [],
   "source": [
    "src = NiiImageList.from_df(df, IMG_PATH).split_from_df(col='usage').label_from_df(cols='malignancy')"
   ]
  },
  {
   "cell_type": "code",
   "execution_count": null,
   "metadata": {},
   "outputs": [],
   "source": [
    "data = src.transform(get_transforms(largest_img_size=LARGEST_IMG_SIZE, degrees=35)).databunch(bs=bs)"
   ]
  },
  {
   "cell_type": "code",
   "execution_count": null,
   "metadata": {},
   "outputs": [],
   "source": [
    "learn = create_learner(data=data, model=model, layer_groups=layer_groups, metrics=accuracy, mixed_precision=False, run_parallel=False)"
   ]
  },
  {
   "cell_type": "code",
   "execution_count": null,
   "metadata": {},
   "outputs": [],
   "source": [
    "learn.load('final_model');"
   ]
  },
  {
   "cell_type": "code",
   "execution_count": null,
   "metadata": {},
   "outputs": [
    {
     "data": {
      "text/html": [],
      "text/plain": [
       "<IPython.core.display.HTML object>"
      ]
     },
     "metadata": {},
     "output_type": "display_data"
    }
   ],
   "source": [
    "ds_type = fvision.DatasetType.Valid\n",
    "preds,y,losses= learn.get_preds(with_loss=True, ds_type=ds_type, n_batch=None)"
   ]
  },
  {
   "cell_type": "code",
   "execution_count": null,
   "metadata": {},
   "outputs": [],
   "source": [
    "interp = NiiClassificationInterpretation(learn, preds, y, losses, ds_type=ds_type)"
   ]
  },
  {
   "cell_type": "markdown",
   "metadata": {},
   "source": [
    "The accuracy of our model on the test data is:"
   ]
  },
  {
   "cell_type": "code",
   "execution_count": null,
   "metadata": {},
   "outputs": [
    {
     "data": {
      "text/plain": [
       "0.9117647058823529"
      ]
     },
     "execution_count": null,
     "metadata": {},
     "output_type": "execute_result"
    }
   ],
   "source": [
    "interp.accuracy()"
   ]
  },
  {
   "cell_type": "code",
   "execution_count": null,
   "metadata": {},
   "outputs": [
    {
     "data": {
      "image/png": "[encoded data removed]",
      "text/plain": [
       "<Figure size 360x360 with 1 Axes>"
      ]
     },
     "metadata": {
      "needs_background": "light"
     },
     "output_type": "display_data"
    }
   ],
   "source": [
    "interp.plot_confusion_matrix(figsize=(5, 5))"
   ]
  },
  {
   "cell_type": "markdown",
   "metadata": {},
   "source": [
    "Here are som correctly classified nodules:"
   ]
  },
  {
   "cell_type": "code",
   "execution_count": null,
   "metadata": {},
   "outputs": [
    {
     "data": {
      "image/png": "[encoded data removed]",
      "text/plain": [
       "<Figure size 720x720 with 4 Axes>"
      ]
     },
     "metadata": {
      "needs_background": "light"
     },
     "output_type": "display_data"
    }
   ],
   "source": [
    "interp.plot_losses(k=4,most_confused=False) "
   ]
  },
  {
   "cell_type": "markdown",
   "metadata": {},
   "source": [
    "Incorrectly classified"
   ]
  },
  {
   "cell_type": "code",
   "execution_count": null,
   "metadata": {},
   "outputs": [
    {
     "data": {
      "image/png": "[encoded data removed]",
      "text/plain": [
       "<Figure size 720x720 with 4 Axes>"
      ]
     },
     "metadata": {
      "needs_background": "light"
     },
     "output_type": "display_data"
    }
   ],
   "source": [
    "interp.plot_losses(k=4, most_confused=True)"
   ]
  },
  {
   "cell_type": "markdown",
   "metadata": {},
   "source": [
    "## Test time augmentation\n",
    "Using augmentation during inference time is known as test time augmentation (TTA). \n",
    "TTA makes predictions on the original images along with predictions on a number of randomly augmented versions of these images (default is set to original image + four randomly augmented images). It then takes the average prediction from these images. This can often provide a small boost in prediction performance."
   ]
  },
  {
   "cell_type": "code",
   "execution_count": null,
   "metadata": {},
   "outputs": [],
   "source": [
    "preds, y_true = TTA(learn)"
   ]
  },
  {
   "cell_type": "code",
   "execution_count": null,
   "metadata": {},
   "outputs": [],
   "source": [
    "from sklearn.metrics import accuracy_score"
   ]
  },
  {
   "cell_type": "code",
   "execution_count": null,
   "metadata": {},
   "outputs": [
    {
     "data": {
      "text/plain": [
       "0.9159663865546218"
      ]
     },
     "execution_count": null,
     "metadata": {},
     "output_type": "execute_result"
    }
   ],
   "source": [
    "pred_class = preds.argmax(axis=1)\n",
    "accuracy_score(y_true,pred_class)"
   ]
  },
  {
   "cell_type": "markdown",
   "metadata": {},
   "source": [
    "# Explainable AI: Generating heatmaps\n",
    "This is a visualization technique that can provide some understanding of model's decision making "
   ]
  },
  {
   "cell_type": "code",
   "execution_count": null,
   "metadata": {},
   "outputs": [],
   "source": [
    "from heatmap import * \n",
    "from image import show_image"
   ]
  },
  {
   "cell_type": "code",
   "execution_count": null,
   "metadata": {},
   "outputs": [],
   "source": [
    "idx = 207"
   ]
  },
  {
   "cell_type": "code",
   "execution_count": null,
   "metadata": {},
   "outputs": [],
   "source": [
    "m, xb, y = get_heatmap_elements(learn, data, idx=idx, ds_type=ds_type)"
   ]
  },
  {
   "cell_type": "markdown",
   "metadata": {},
   "source": [
    "## CAM: Class activation maps"
   ]
  },
  {
   "cell_type": "code",
   "execution_count": null,
   "metadata": {},
   "outputs": [],
   "source": [
    "cam_data = generate_cam(m, xb, y)"
   ]
  },
  {
   "cell_type": "code",
   "execution_count": null,
   "metadata": {},
   "outputs": [
    {
     "data": {
      "text/plain": [
       "torch.Size([1, 88, 91, 54])"
      ]
     },
     "execution_count": null,
     "metadata": {},
     "output_type": "execute_result"
    }
   ],
   "source": [
    "xb_img = xb[0]\n",
    "xb_img.shape"
   ]
  },
  {
   "cell_type": "code",
   "execution_count": null,
   "metadata": {},
   "outputs": [
    {
     "data": {
      "image/png": "[encoded data removed]",
      "text/plain": [
       "<Figure size 360x360 with 1 Axes>"
      ]
     },
     "metadata": {
      "needs_background": "light"
     },
     "output_type": "display_data"
    }
   ],
   "source": [
    "show_image(img=xb_img, y=cam_data,figsize=(5,5), alpha=1, cmap_y='magma',anatomical_plane='sagittal');"
   ]
  },
  {
   "cell_type": "markdown",
   "metadata": {},
   "source": [
    "## Grad-CAMs"
   ]
  },
  {
   "cell_type": "code",
   "execution_count": null,
   "metadata": {},
   "outputs": [],
   "source": [
    "grad_cam_data = generate_grad_cam(m,xb,y)"
   ]
  },
  {
   "cell_type": "code",
   "execution_count": null,
   "metadata": {},
   "outputs": [
    {
     "data": {
      "image/png": "[encoded data removed]",
      "text/plain": [
       "<Figure size 360x360 with 1 Axes>"
      ]
     },
     "metadata": {
      "needs_background": "light"
     },
     "output_type": "display_data"
    }
   ],
   "source": [
    "show_image(img=xb_img, y=grad_cam_data, figsize=(5,5),alpha=1, cmap_y='magma', anatomical_plane='sagittal');"
   ]
  }
 ],
 "metadata": {
  "kernelspec": {
   "display_name": "Python (lung-ct-new)",
   "language": "python",
   "name": "lung-ct"
  },
  "language_info": {
   "codemirror_mode": {
    "name": "ipython",
    "version": 3
   },
   "file_extension": ".py",
   "mimetype": "text/x-python",
   "name": "python",
   "nbconvert_exporter": "python",
   "pygments_lexer": "ipython3",
   "version": "3.7.9"
  }
 },
 "nbformat": 4,
 "nbformat_minor": 4
}
